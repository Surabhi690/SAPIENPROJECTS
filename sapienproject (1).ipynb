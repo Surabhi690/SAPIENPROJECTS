{
 "cells": [
  {
   "cell_type": "code",
   "execution_count": 70,
   "id": "20d335e0-cb4e-4834-9f4b-7ade5e51a41d",
   "metadata": {},
   "outputs": [],
   "source": [
    "# Importing required libraries\n",
    "import numpy as np\n",
    "import matplotlib.pyplot as plt\n",
    "from sklearn.metrics import confusion_matrix, precision_score, recall_score, f1_score\n",
    "from sklearn.model_selection import train_test_split\n",
    "from sklearn.preprocessing import OneHotEncoder\n",
    "import pickle\n",
    "import os"
   ]
  },
  {
   "cell_type": "code",
   "execution_count": 67,
   "id": "bd8745c8-cf48-40b8-ba9a-fcb86ecc8956",
   "metadata": {},
   "outputs": [
    {
     "name": "stdout",
     "output_type": "stream",
     "text": [
      "Defaulting to user installation because normal site-packages is not writeable\n",
      "Requirement already satisfied: pip in c:\\users\\asus\\appdata\\roaming\\python\\python312\\site-packages (25.1.1)\n",
      "Note: you may need to restart the kernel to use updated packages.\n"
     ]
    }
   ],
   "source": [
    "pip install --upgrade pip"
   ]
  },
  {
   "cell_type": "code",
   "execution_count": 68,
   "id": "6c575175-2901-4647-accd-0b737fcd5dba",
   "metadata": {},
   "outputs": [
    {
     "name": "stdout",
     "output_type": "stream",
     "text": [
      "Running from: C:\\Users\\ASUS\\OneDrive\\Desktop\\Intern project\n"
     ]
    }
   ],
   "source": [
    "import os\n",
    "print(\"Running from:\", os.getcwd())\n"
   ]
  },
  {
   "cell_type": "code",
   "execution_count": 69,
   "id": "d5e79348-0fdb-4369-b591-7d498bd4e0f4",
   "metadata": {},
   "outputs": [],
   "source": [
    "# NOTE: Please replace the path below with the path to the 'cifar-10-batches-py' folder on your own device.\n",
    "# This should be the full directory path where the dataset has been extracted.\n",
    "folder = os.path.join(os.getcwd(), \"cifar-10-batches-py\")\n"
   ]
  },
  {
   "cell_type": "code",
   "execution_count": 59,
   "id": "7f731fce-f71e-4203-b95b-0dcf9eddc2c6",
   "metadata": {},
   "outputs": [],
   "source": [
    "# # Function to unpickle CIFAR-10 data files\n",
    "def unpickle(file):\n",
    "    with open(file, 'rb') as fo:\n",
    "        data = pickle.load(fo, encoding='bytes')\n",
    "    return data\n",
    "\n",
    "# # Load a single CIFAR-10 batch file\n",
    "def load_cifar10_batch(folder, batch_name):\n",
    "    batch = unpickle(os.path.join(folder, batch_name))\n",
    "    X = batch[b'data']\n",
    "    y = batch[b'labels']\n",
    "    X = X.reshape(len(X), 3, 32, 32).transpose(0, 2, 3, 1).astype('float32')\n",
    "    return X, np.array(y)\n"
   ]
  },
  {
   "cell_type": "code",
   "execution_count": 31,
   "id": "3739012c-3420-40fe-94f6-1dc6470b87e8",
   "metadata": {},
   "outputs": [],
   "source": [
    "# Load only the required classes (e.g., airplane, car, bird)\n",
    "def load_cifar10_subset(folder, selected_classes, batches=[1, 2]):\n",
    "    X_all, y_all = [], []\n",
    "    for i in batches:\n",
    "        X, y = load_cifar10_batch(folder, f'data_batch_{i}')\n",
    "        mask = np.isin(y, selected_classes)\n",
    "        X_all.append(X[mask])\n",
    "        y_all.append(y[mask])\n",
    "    return np.concatenate(X_all), np.concatenate(y_all)\n",
    "    \n",
    "# Normalize pixel values and one-hot encode labels\n",
    "def preprocess_data(X, y, selected_classes):\n",
    "    X = X / 255.0\n",
    "    X = X.reshape(X.shape[0], -1)\n",
    "    label_map = {cls: i for i, cls in enumerate(selected_classes)}\n",
    "    y = np.array([label_map[label] for label in y]).reshape(-1, 1)\n",
    "    onehot = OneHotEncoder(sparse_output=False)\n",
    "    y_onehot = onehot.fit_transform(y)\n",
    "    return X, y_onehot, y.ravel()\n"
   ]
  },
  {
   "cell_type": "code",
   "execution_count": 62,
   "id": "eddc538a-f261-4567-870d-4d75a9c40703",
   "metadata": {},
   "outputs": [],
   "source": [
    "# This is the path to the CIFAR-10 dataset on my local system.\n",
    "# Kindly replace this path with the location of the 'cifar-10-batches-py' folder on your own machine while evaluating.\n",
    "folder = r\"C:\\Users\\ASUS\\Downloads\\cifar-10-batches-py\"\n"
   ]
  },
  {
   "cell_type": "code",
   "execution_count": 63,
   "id": "f2b614b0-2d6e-42ad-88ce-0e77483e195d",
   "metadata": {},
   "outputs": [
    {
     "name": "stdout",
     "output_type": "stream",
     "text": [
      "Looking inside folder: C:\\Users\\ASUS\\OneDrive\\Desktop\\Intern project\\cifar-10-batches-py\n",
      "Folder exists. Files inside:\n",
      "['batches.meta', 'data_batch_1', 'data_batch_2', 'data_batch_3', 'data_batch_4', 'data_batch_5', 'readme.html', 'test_batch']\n"
     ]
    }
   ],
   "source": [
    "import os\n",
    "\n",
    "# The folder we're expecting CIFAR-10 data to be in\n",
    "folder = os.path.join(os.getcwd(), \"cifar-10-batches-py\")\n",
    "print(\"Looking inside folder:\", folder)\n",
    "\n",
    "# List contents\n",
    "if os.path.exists(folder):\n",
    "    print(\"Folder exists. Files inside:\")\n",
    "    print(os.listdir(folder))\n",
    "else:\n",
    "    print(\"Folder not found!\")\n"
   ]
  },
  {
   "cell_type": "code",
   "execution_count": 64,
   "id": "8abbd56b-8123-49ab-9bb4-6b9407e3030f",
   "metadata": {},
   "outputs": [
    {
     "name": "stdout",
     "output_type": "stream",
     "text": [
      "File opened successfully.\n"
     ]
    }
   ],
   "source": [
    "with open(\"cifar-10-batches-py/data_batch_1\", \"rb\") as f:\n",
    "    print(\"File opened successfully.\")"
   ]
  },
  {
   "cell_type": "code",
   "execution_count": 65,
   "id": "bff0a4ed-9ca0-43d2-aa26-7728228c50a7",
   "metadata": {},
   "outputs": [],
   "source": [
    "# Path to local dataset folder\n",
    "folder = os.path.join(os.getcwd(), \"cifar-10-batches-py\")\n",
    "selected_classes = [0, 1, 2]  # # Specify classes to classify (0: airplane, 1: automobile, 2: bird)\n",
    "\n",
    "# Load and filter dataset\n",
    "X, y = load_cifar10_subset(folder, selected_classes)\n",
    "X, y_onehot, y_labels = preprocess_data(X, y, selected_classes)\n",
    "\n",
    "# Split into training and testing sets\n",
    "X_train, X_test, y_train, y_test, y_train_labels, y_test_labels = train_test_split(\n",
    "    X, y_onehot, y_labels, test_size=0.2, random_state=42\n",
    ")"
   ]
  },
  {
   "cell_type": "code",
   "execution_count": 37,
   "id": "c049fa31-6bd2-41df-af87-6e190f528046",
   "metadata": {},
   "outputs": [],
   "source": [
    "# # ReLU activation function and its derivative\n",
    "def relu(x):\n",
    "    return np.maximum(0, x)\n",
    "\n",
    "def d_relu(x):\n",
    "    return x > 0\n",
    "    \n",
    "# Softmax function for output layer\n",
    "def softmax(z):\n",
    "    e_z = np.exp(z - np.max(z, axis=1, keepdims=True))\n",
    "    return e_z / np.sum(e_z, axis=1, keepdims=True)\n",
    "\n",
    "# Cross-entropy loss function\n",
    "def compute_loss(y_hat, y_true):\n",
    "    eps = 1e-9\n",
    "    return -np.mean(np.sum(y_true * np.log(y_hat + eps), axis=1))\n"
   ]
  },
  {
   "cell_type": "code",
   "execution_count": 38,
   "id": "2cc94704-53bb-4488-b201-b32cac1bdacc",
   "metadata": {},
   "outputs": [],
   "source": [
    "# Initialize weights and biases for all layers\n",
    "def initialize_weights(n_input, n_h1, n_h2, n_out):\n",
    "    w1 = np.random.randn(n_input, n_h1) * 0.01\n",
    "    b1 = np.zeros((1, n_h1))\n",
    "    w2 = np.random.randn(n_h1, n_h2) * 0.01\n",
    "    b2 = np.zeros((1, n_h2))\n",
    "    w3 = np.random.randn(n_h2, n_out) * 0.01\n",
    "    b3 = np.zeros((1, n_out))\n",
    "    return w1, b1, w2, b2, w3, b3\n"
   ]
  },
  {
   "cell_type": "code",
   "execution_count": 39,
   "id": "30976940-13c9-46cc-87f8-219dd607ab55",
   "metadata": {},
   "outputs": [],
   "source": [
    "# One full training step: forward + backprop + update\n",
    "def train_step(X, y, w1, b1, w2, b2, w3, b3, lr):\n",
    "    # Forward\n",
    "    z1 = X.dot(w1) + b1\n",
    "    a1 = relu(z1)\n",
    "    z2 = a1.dot(w2) + b2\n",
    "    a2 = relu(z2)\n",
    "    z3 = a2.dot(w3) + b3\n",
    "    out = softmax(z3)\n",
    "\n",
    "    loss = compute_loss(out, y)\n",
    "\n",
    "    # Backward\n",
    "    d_out = out - y\n",
    "    dw3 = a2.T.dot(d_out) / X.shape[0]\n",
    "    db3 = np.sum(d_out, axis=0, keepdims=True) / X.shape[0]\n",
    "\n",
    "    da2 = d_out.dot(w3.T)\n",
    "    dz2 = da2 * d_relu(z2)\n",
    "    dw2 = a1.T.dot(dz2) / X.shape[0]\n",
    "    db2 = np.sum(dz2, axis=0, keepdims=True) / X.shape[0]\n",
    "\n",
    "    da1 = dz2.dot(w2.T)\n",
    "    dz1 = da1 * d_relu(z1)\n",
    "    dw1 = X.T.dot(dz1) / X.shape[0]\n",
    "    db1 = np.sum(dz1, axis=0, keepdims=True) / X.shape[0]\n",
    "\n",
    "    # Update weights\n",
    "    w1 -= lr * dw1\n",
    "    b1 -= lr * db1\n",
    "    w2 -= lr * dw2\n",
    "    b2 -= lr * db2\n",
    "    w3 -= lr * dw3\n",
    "    b3 -= lr * db3\n",
    "\n",
    "    return w1, b1, w2, b2, w3, b3, loss\n"
   ]
  },
  {
   "cell_type": "code",
   "execution_count": 49,
   "id": "32f64780-e653-405d-b558-c246992271fa",
   "metadata": {},
   "outputs": [],
   "source": [
    "# Custom function to create batches\n",
    "def get_batches(X, y, batch_size):\n",
    "    for i in range(0, X.shape[0], batch_size):\n",
    "        yield X[i:i+batch_size], y[i:i+batch_size]\n",
    "        "
   ]
  },
  {
   "cell_type": "code",
   "execution_count": 71,
   "id": "c95e7588-2840-494c-8c3d-857648a6c0b2",
   "metadata": {},
   "outputs": [
    {
     "name": "stdout",
     "output_type": "stream",
     "text": [
      "\n",
      "Attempt #1\n",
      "Epoch 10 | Loss: 1.0061\n",
      "Epoch 20 | Loss: 0.7761\n",
      "Epoch 30 | Loss: 0.7051\n",
      "Epoch 40 | Loss: 0.6529\n",
      "Epoch 50 | Loss: 0.6075\n",
      "Accuracy: 74.48%\n",
      "\n",
      "Training complete. Final Accuracy = 74.48% after 1 attempt(s)\n"
     ]
    }
   ],
   "source": [
    "input_size = X_train.shape[1]\n",
    "h1_size = 512\n",
    "h2_size = 256\n",
    "output_size = 3\n",
    "lr = 0.02\n",
    "epochs = 50\n",
    "batch_size = 128\n",
    "attempt = 0\n",
    "accuracy = 0\n",
    "\n",
    "while accuracy < 60:\n",
    "    attempt += 1\n",
    "    print(f\"\\nAttempt #{attempt}\")\n",
    "    \n",
    "    w1, b1, w2, b2, w3, b3 = initialize_weights(input_size, h1_size, h2_size, output_size)\n",
    "    loss_history = []\n",
    "\n",
    "    for epoch in range(epochs):\n",
    "        batch_losses = []\n",
    "        for Xb, yb in get_batches(X_train, y_train, batch_size):\n",
    "            w1, b1, w2, b2, w3, b3, loss = train_step(Xb, yb, w1, b1, w2, b2, w3, b3, lr)\n",
    "            batch_losses.append(loss)\n",
    "        avg_loss = np.mean(batch_losses)\n",
    "        loss_history.append(avg_loss)\n",
    "        if (epoch + 1) % 10 == 0:\n",
    "            print(f\"Epoch {epoch+1} | Loss: {avg_loss:.4f}\")\n",
    "\n",
    "    y_pred = predict(X_test, w1, b1, w2, b2, w3, b3)\n",
    "    accuracy = np.mean(y_pred == y_test_labels) * 100\n",
    "    print(f\"Accuracy: {accuracy:.2f}%\")\n",
    "\n",
    "print(f\"\\nTraining complete. Final Accuracy = {accuracy:.2f}% after {attempt} attempt(s)\")\n",
    "\n"
   ]
  },
  {
   "cell_type": "code",
   "execution_count": 72,
   "id": "1d4b1c32-24f6-4c09-8a8e-843a2090ced9",
   "metadata": {},
   "outputs": [
    {
     "data": {
      "image/png": "[encoded data removed]",
      "text/plain": [
       "<Figure size 700x500 with 1 Axes>"
      ]
     },
     "metadata": {},
     "output_type": "display_data"
    }
   ],
   "source": [
    "# Plotting training loss after last attempt\n",
    "plt.figure(figsize=(7, 5))\n",
    "plt.plot(loss_history, color='blue')\n",
    "plt.title(\"Training Loss Over Epochs\")\n",
    "plt.xlabel(\"Epoch\")\n",
    "plt.ylabel(\"Loss\")\n",
    "plt.grid(True)\n",
    "plt.show()\n"
   ]
  },
  {
   "cell_type": "code",
   "execution_count": 73,
   "id": "ce8ae9d1-d58e-4f00-98c2-4158e3ebaba4",
   "metadata": {},
   "outputs": [],
   "source": [
    "# # Function to make predictions\n",
    "def predict(X, w1, b1, w2, b2, w3, b3):\n",
    "    z1 = X.dot(w1) + b1\n",
    "    a1 = relu(z1)\n",
    "    z2 = a1.dot(w2) + b2\n",
    "    a2 = relu(z2)\n",
    "    z3 = a2.dot(w3) + b3\n",
    "    y_prob = softmax(z3)\n",
    "    return np.argmax(y_prob, axis=1)\n"
   ]
  },
  {
   "cell_type": "code",
   "execution_count": 53,
   "id": "1e83073d-3d14-4892-8b4f-f92f7c7fa988",
   "metadata": {},
   "outputs": [
    {
     "name": "stdout",
     "output_type": "stream",
     "text": [
      "\n",
      " Final Accuracy on test set: 74.73%\n"
     ]
    }
   ],
   "source": [
    "y_pred = predict(X_test, w1, b1, w2, b2, w3, b3)\n",
    "accuracy = np.mean(y_pred == y_test_labels) * 100\n",
    "\n",
    "print(f\"\\n Final Accuracy on test set: {accuracy:.2f}%\")"
   ]
  },
  {
   "cell_type": "code",
   "execution_count": 56,
   "id": "0cd3eba0-46e8-45ef-8842-7fe0e47cd701",
   "metadata": {},
   "outputs": [
    {
     "name": "stdout",
     "output_type": "stream",
     "text": [
      "\n",
      "Evaluation Metrics:\n",
      "Final Accuracy: 74.73%\n",
      "Confusion Matrix:\n",
      "[[318  51  49]\n",
      " [ 44 292  38]\n",
      " [ 87  35 289]]\n",
      "Precision (per class): [0.70824053 0.77248677 0.76861702]\n",
      "Recall (per class): [0.76076555 0.78074866 0.70316302]\n",
      "F1 Score (per class): [0.73356401 0.77659574 0.73443456]\n"
     ]
    }
   ],
   "source": [
    "from sklearn.metrics import confusion_matrix, precision_score, recall_score, f1_score\n",
    "import numpy as np\n",
    "\n",
    "# Predict on test set\n",
    "y_pred = predict(X_test, w1, b1, w2, b2, w3, b3)\n",
    "accuracy = np.mean(y_pred == y_test_labels) * 100\n",
    "\n",
    "# Compute metrics\n",
    "cm = confusion_matrix(y_test_labels, y_pred)\n",
    "precision = precision_score(y_test_labels, y_pred, average=None, zero_division=0)\n",
    "recall = recall_score(y_test_labels, y_pred, average=None, zero_division=0)\n",
    "f1 = f1_score(y_test_labels, y_pred, average=None, zero_division=0)\n",
    "\n",
    "# Print results\n",
    "print(\"\\nEvaluation Metrics:\")\n",
    "print(\"Final Accuracy: {:.2f}%\".format(accuracy))\n",
    "print(\"Confusion Matrix:\")\n",
    "print(cm)\n",
    "print(\"Precision (per class):\", precision)\n",
    "print(\"Recall (per class):\", recall)\n",
    "print(\"F1 Score (per class):\", f1)\n",
    "\n",
    "# Show if any classes were never predicted\n",
    "missed = np.setdiff1d(np.unique(y_test_labels), np.unique(y_pred))\n",
    "if len(missed) > 0:\n",
    "    print(\"Warning: Some classes were never predicted:\", missed)\n",
    "\n"
   ]
  },
  {
   "cell_type": "code",
   "execution_count": 57,
   "id": "cd807e78-780a-4c5e-8583-f5980e02d28b",
   "metadata": {},
   "outputs": [
    {
     "name": "stdout",
     "output_type": "stream",
     "text": [
      "\n",
      "Final Accuracy on test set: 74.73%\n"
     ]
    }
   ],
   "source": [
    "print(f\"\\nFinal Accuracy on test set: {accuracy:.2f}%\")"
   ]
  },
  {
   "cell_type": "code",
   "execution_count": null,
   "id": "13e5c52e-2bae-4fbd-95de-98f7a5802ee7",
   "metadata": {},
   "outputs": [],
   "source": []
  }
 ],
 "metadata": {
  "kernelspec": {
   "display_name": "Python 3 (ipykernel)",
   "language": "python",
   "name": "python3"
  },
  "language_info": {
   "codemirror_mode": {
    "name": "ipython",
    "version": 3
   },
   "file_extension": ".py",
   "mimetype": "text/x-python",
   "name": "python",
   "nbconvert_exporter": "python",
   "pygments_lexer": "ipython3",
   "version": "3.12.6"
  }
 },
 "nbformat": 4,
 "nbformat_minor": 5
}
